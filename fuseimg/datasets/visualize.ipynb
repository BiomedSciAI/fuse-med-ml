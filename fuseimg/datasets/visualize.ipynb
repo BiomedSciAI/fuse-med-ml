{
 "cells": [
  {
   "cell_type": "code",
   "execution_count": 2,
   "metadata": {},
   "outputs": [
    {
     "name": "stdout",
     "output_type": "stream",
     "text": [
      "Found ground truth file: /home/guez/Documents/git_public/fuse-med-ml/fuseimg/datasets/files_combined.csv\n",
      "pipeline description hash for [cmmd_cache_ver] is: hash_51b7f5a76ad4e3b1add78e78484d5f98\n",
      "Due to \"delete_cache\" call, about to delete the following dirs:\n",
      "/home/guez/Documents/git_public/fuse-med-ml/fuseimg/datasets/cahce_dir/cmmd_cache_ver\n",
      "---- list end ----\n",
      "deleting ... \n",
      "deleting /home/guez/Documents/git_public/fuse-med-ml/fuseimg/datasets/cahce_dir/cmmd_cache_ver ...\n",
      "\u001b[36mmultiprocess pool created with 10 workers.\u001b[0m\n"
     ]
    },
    {
     "name": "stderr",
     "output_type": "stream",
     "text": [
      "  0%|          | 0/1 [00:00<?, ?it/s]/home/guez/Documents/git_public/fuse-med-ml/fuseimg/datasets/ukbb_neck_to_knee.py:88: UserWarning: Boolean Series key will be reindexed to match DataFrame index.\n",
      "  dcm_unique = dicom_tags[dicom_tags['station'] == station][dicom_tags['series'] == series]['dcm_unique'].iloc[0]\n"
     ]
    },
    {
     "name": "stdout",
     "output_type": "stream",
     "text": [
      "error in __call__ method of op=<fuse.data.ops.ops_common.OpLambda object at 0x7fb521df4710>, op_id=internal.cmmd_static.2, sample_id=1001413_20201_2_0.zip - more details below\n"
     ]
    },
    {
     "name": "stderr",
     "output_type": "stream",
     "text": [
      "  0%|          | 0/1 [00:17<?, ?it/s]\n"
     ]
    },
    {
     "ename": "TypeError",
     "evalue": "Invalid shape (1714944,) for image data",
     "output_type": "error",
     "traceback": [
      "\u001b[0;31m---------------------------------------------------------------------------\u001b[0m",
      "\u001b[0;31mRemoteTraceback\u001b[0m                           Traceback (most recent call last)",
      "\u001b[0;31mRemoteTraceback\u001b[0m: \n\"\"\"\nTraceback (most recent call last):\n  File \"/home/guez/.conda/envs/myenv/lib/python3.7/multiprocessing/pool.py\", line 121, in worker\n    result = (True, func(*args, **kwds))\n  File \"/home/guez/Documents/git_public/fuse-med-ml/fuse/utils/multiprocessing/run_multiprocessed.py\", line 209, in worker_func_wrapper\n    return worker_func(*args, **kwargs)\n  File \"/home/guez/Documents/git_public/fuse-med-ml/fuse/data/datasets/caching/samples_cacher.py\", line 277, in _cache_worker\n    ans = cacher._cache(orig_sample_id)\n  File \"/home/guez/Documents/git_public/fuse-med-ml/fuse/data/datasets/caching/samples_cacher.py\", line 302, in _cache\n    result_sample = self._load_sample_using_pipeline(orig_sample_id)\n  File \"/home/guez/Documents/git_public/fuse-med-ml/fuse/data/datasets/caching/samples_cacher.py\", line 252, in _load_sample_using_pipeline\n    result_sample = self._pipeline(sample_dict)\n  File \"/home/guez/Documents/git_public/fuse-med-ml/fuse/data/pipelines/pipeline_default.py\", line 99, in __call__\n    sample = op_call(op, sample, f\"{op_id}.{sub_op_id}\", **op_kwargs)\n  File \"/home/guez/Documents/git_public/fuse-med-ml/fuse/data/ops/op_base.py\", line 99, in op_call\n    return op(sample_dict, op_id=op_id, **kwargs)\n  File \"/home/guez/Documents/git_public/fuse-med-ml/fuse/data/ops/ops_common.py\", line 100, in __call__\n    value = self._func(value, **kwargs)\n  File \"/home/guez/Documents/git_public/fuse-med-ml/fuseimg/datasets/ukbb_neck_to_knee.py\", line 36, in dump\n    plt.imshow(img[:,:,slice], interpolation='nearest')\n  File \"/home/guez/.conda/envs/myenv/lib/python3.7/site-packages/matplotlib/_api/deprecation.py\", line 459, in wrapper\n    return func(*args, **kwargs)\n  File \"/home/guez/.conda/envs/myenv/lib/python3.7/site-packages/matplotlib/pyplot.py\", line 2659, in imshow\n    **kwargs)\n  File \"/home/guez/.conda/envs/myenv/lib/python3.7/site-packages/matplotlib/_api/deprecation.py\", line 459, in wrapper\n    return func(*args, **kwargs)\n  File \"/home/guez/.conda/envs/myenv/lib/python3.7/site-packages/matplotlib/__init__.py\", line 1412, in inner\n    return func(ax, *map(sanitize_sequence, args), **kwargs)\n  File \"/home/guez/.conda/envs/myenv/lib/python3.7/site-packages/matplotlib/axes/_axes.py\", line 5481, in imshow\n    im.set_data(X)\n  File \"/home/guez/.conda/envs/myenv/lib/python3.7/site-packages/matplotlib/image.py\", line 716, in set_data\n    .format(self._A.shape))\nTypeError: Invalid shape (1714944,) for image data\n\"\"\"",
      "\nThe above exception was the direct cause of the following exception:\n",
      "\u001b[0;31mTypeError\u001b[0m                                 Traceback (most recent call last)",
      "\u001b[0;32m/tmp/ipykernel_13275/237536822.py\u001b[0m in \u001b[0;36m<module>\u001b[0;34m\u001b[0m\n\u001b[1;32m      9\u001b[0m                 \u001b[0mtarget\u001b[0m\u001b[0;34m=\u001b[0m \u001b[0;34m'is female'\u001b[0m\u001b[0;34m,\u001b[0m\u001b[0;34m\u001b[0m\u001b[0;34m\u001b[0m\u001b[0m\n\u001b[1;32m     10\u001b[0m                 \u001b[0mcache_dir\u001b[0m \u001b[0;34m=\u001b[0m \u001b[0;34m'cahce_dir'\u001b[0m\u001b[0;34m,\u001b[0m\u001b[0;34m\u001b[0m\u001b[0;34m\u001b[0m\u001b[0m\n\u001b[0;32m---> 11\u001b[0;31m                 sample_ids=sample_ids)\n\u001b[0m",
      "\u001b[0;32m~/Documents/git_public/fuse-med-ml/fuseimg/datasets/ukbb_neck_to_knee.py\u001b[0m in \u001b[0;36mdataset\u001b[0;34m(gt_file_path, data_dir, data_misc_dir, target, cache_dir, reset_cache, num_workers, sample_ids, train)\u001b[0m\n\u001b[1;32m    313\u001b[0m         )\n\u001b[1;32m    314\u001b[0m \u001b[0;34m\u001b[0m\u001b[0m\n\u001b[0;32m--> 315\u001b[0;31m         \u001b[0mmy_dataset\u001b[0m\u001b[0;34m.\u001b[0m\u001b[0mcreate\u001b[0m\u001b[0;34m(\u001b[0m\u001b[0;34m)\u001b[0m\u001b[0;34m\u001b[0m\u001b[0;34m\u001b[0m\u001b[0m\n\u001b[0m\u001b[1;32m    316\u001b[0m         \u001b[0;32mreturn\u001b[0m \u001b[0mmy_dataset\u001b[0m\u001b[0;34m\u001b[0m\u001b[0;34m\u001b[0m\u001b[0m\n\u001b[1;32m    317\u001b[0m \u001b[0;32mdef\u001b[0m \u001b[0mcreate_df_from_zip\u001b[0m\u001b[0;34m(\u001b[0m\u001b[0mfile\u001b[0m\u001b[0;34m)\u001b[0m\u001b[0;34m:\u001b[0m\u001b[0;34m\u001b[0m\u001b[0;34m\u001b[0m\u001b[0m\n",
      "\u001b[0;32m~/Documents/git_public/fuse-med-ml/fuse/data/datasets/dataset_default.py\u001b[0m in \u001b[0;36mcreate\u001b[0;34m(self, num_workers, mp_context)\u001b[0m\n\u001b[1;32m     94\u001b[0m         \u001b[0mself\u001b[0m\u001b[0;34m.\u001b[0m\u001b[0m_output_sample_ids_info\u001b[0m \u001b[0;34m=\u001b[0m \u001b[0;32mNone\u001b[0m\u001b[0;34m\u001b[0m\u001b[0;34m\u001b[0m\u001b[0m\n\u001b[1;32m     95\u001b[0m         \u001b[0;32mif\u001b[0m \u001b[0mself\u001b[0m\u001b[0;34m.\u001b[0m\u001b[0m_cacher\u001b[0m \u001b[0;32mis\u001b[0m \u001b[0;32mnot\u001b[0m \u001b[0;32mNone\u001b[0m\u001b[0;34m:\u001b[0m\u001b[0;34m\u001b[0m\u001b[0;34m\u001b[0m\u001b[0m\n\u001b[0;32m---> 96\u001b[0;31m             \u001b[0mself\u001b[0m\u001b[0;34m.\u001b[0m\u001b[0m_output_sample_ids_info\u001b[0m \u001b[0;34m=\u001b[0m \u001b[0mself\u001b[0m\u001b[0;34m.\u001b[0m\u001b[0m_cacher\u001b[0m\u001b[0;34m.\u001b[0m\u001b[0mcache_samples\u001b[0m\u001b[0;34m(\u001b[0m\u001b[0mself\u001b[0m\u001b[0;34m.\u001b[0m\u001b[0m_orig_sample_ids\u001b[0m\u001b[0;34m)\u001b[0m\u001b[0;34m\u001b[0m\u001b[0;34m\u001b[0m\u001b[0m\n\u001b[0m\u001b[1;32m     97\u001b[0m         \u001b[0;32melif\u001b[0m \u001b[0mself\u001b[0m\u001b[0;34m.\u001b[0m\u001b[0m_allow_uncached_sample_morphing\u001b[0m\u001b[0;34m:\u001b[0m\u001b[0;34m\u001b[0m\u001b[0;34m\u001b[0m\u001b[0m\n\u001b[1;32m     98\u001b[0m             _output_sample_ids_info_list = run_multiprocessed(DatasetDefault._process_orig_sample_id, \n",
      "\u001b[0;32m~/Documents/git_public/fuse-med-ml/fuse/data/datasets/caching/samples_cacher.py\u001b[0m in \u001b[0;36mcache_samples\u001b[0;34m(self, orig_sample_ids)\u001b[0m\n\u001b[1;32m    185\u001b[0m             \u001b[0mworkers\u001b[0m\u001b[0;34m=\u001b[0m\u001b[0mself\u001b[0m\u001b[0;34m.\u001b[0m\u001b[0m_workers\u001b[0m\u001b[0;34m,\u001b[0m\u001b[0;34m\u001b[0m\u001b[0;34m\u001b[0m\u001b[0m\n\u001b[1;32m    186\u001b[0m             \u001b[0mcopy_to_global_storage\u001b[0m\u001b[0;34m=\u001b[0m\u001b[0mfor_global_storage\u001b[0m\u001b[0;34m,\u001b[0m\u001b[0;34m\u001b[0m\u001b[0;34m\u001b[0m\u001b[0m\n\u001b[0;32m--> 187\u001b[0;31m             \u001b[0mverbose\u001b[0m\u001b[0;34m=\u001b[0m\u001b[0;36m1\u001b[0m\u001b[0;34m,\u001b[0m\u001b[0;34m\u001b[0m\u001b[0;34m\u001b[0m\u001b[0m\n\u001b[0m\u001b[1;32m    188\u001b[0m         )      \n\u001b[1;32m    189\u001b[0m \u001b[0;34m\u001b[0m\u001b[0m\n",
      "\u001b[0;32m~/Documents/git_public/fuse-med-ml/fuse/utils/multiprocessing/run_multiprocessed.py\u001b[0m in \u001b[0;36mrun_multiprocessed\u001b[0;34m(worker_func, args_list, workers, verbose, copy_to_global_storage, keep_results_order, as_iterator, mp_context)\u001b[0m\n\u001b[1;32m    125\u001b[0m         \u001b[0;32mreturn\u001b[0m \u001b[0miter\u001b[0m\u001b[0;34m\u001b[0m\u001b[0;34m\u001b[0m\u001b[0m\n\u001b[1;32m    126\u001b[0m \u001b[0;34m\u001b[0m\u001b[0m\n\u001b[0;32m--> 127\u001b[0;31m     \u001b[0mans\u001b[0m \u001b[0;34m=\u001b[0m \u001b[0;34m[\u001b[0m\u001b[0mx\u001b[0m \u001b[0;32mfor\u001b[0m \u001b[0mx\u001b[0m \u001b[0;32min\u001b[0m \u001b[0miter\u001b[0m\u001b[0;34m]\u001b[0m\u001b[0;34m\u001b[0m\u001b[0;34m\u001b[0m\u001b[0m\n\u001b[0m\u001b[1;32m    128\u001b[0m     \u001b[0;32mreturn\u001b[0m \u001b[0mans\u001b[0m\u001b[0;34m\u001b[0m\u001b[0;34m\u001b[0m\u001b[0m\n\u001b[1;32m    129\u001b[0m \u001b[0;34m\u001b[0m\u001b[0m\n",
      "\u001b[0;32m~/Documents/git_public/fuse-med-ml/fuse/utils/multiprocessing/run_multiprocessed.py\u001b[0m in \u001b[0;36m<listcomp>\u001b[0;34m(.0)\u001b[0m\n\u001b[1;32m    125\u001b[0m         \u001b[0;32mreturn\u001b[0m \u001b[0miter\u001b[0m\u001b[0;34m\u001b[0m\u001b[0;34m\u001b[0m\u001b[0m\n\u001b[1;32m    126\u001b[0m \u001b[0;34m\u001b[0m\u001b[0m\n\u001b[0;32m--> 127\u001b[0;31m     \u001b[0mans\u001b[0m \u001b[0;34m=\u001b[0m \u001b[0;34m[\u001b[0m\u001b[0mx\u001b[0m \u001b[0;32mfor\u001b[0m \u001b[0mx\u001b[0m \u001b[0;32min\u001b[0m \u001b[0miter\u001b[0m\u001b[0;34m]\u001b[0m\u001b[0;34m\u001b[0m\u001b[0;34m\u001b[0m\u001b[0m\n\u001b[0m\u001b[1;32m    128\u001b[0m     \u001b[0;32mreturn\u001b[0m \u001b[0mans\u001b[0m\u001b[0;34m\u001b[0m\u001b[0;34m\u001b[0m\u001b[0m\n\u001b[1;32m    129\u001b[0m \u001b[0;34m\u001b[0m\u001b[0m\n",
      "\u001b[0;32m~/Documents/git_public/fuse-med-ml/fuse/utils/multiprocessing/run_multiprocessed.py\u001b[0m in \u001b[0;36m_run_multiprocessed_as_iterator_impl\u001b[0;34m(worker_func, args_list, workers, verbose, copy_to_global_storage, keep_results_order, mp_context)\u001b[0m\n\u001b[1;32m    201\u001b[0m             for curr_ans in tqdm_func(map_func(\n\u001b[1;32m    202\u001b[0m                     \u001b[0mworker_func\u001b[0m\u001b[0;34m,\u001b[0m\u001b[0;34m\u001b[0m\u001b[0;34m\u001b[0m\u001b[0m\n\u001b[0;32m--> 203\u001b[0;31m                     args_list), total=len(args_list), smoothing=0.1, disable=verbose<1):\n\u001b[0m\u001b[1;32m    204\u001b[0m                 \u001b[0;32myield\u001b[0m \u001b[0mcurr_ans\u001b[0m\u001b[0;34m\u001b[0m\u001b[0;34m\u001b[0m\u001b[0m\n\u001b[1;32m    205\u001b[0m \u001b[0;34m\u001b[0m\u001b[0m\n",
      "\u001b[0;32m~/.conda/envs/myenv/lib/python3.7/site-packages/tqdm/std.py\u001b[0m in \u001b[0;36m__iter__\u001b[0;34m(self)\u001b[0m\n\u001b[1;32m   1193\u001b[0m \u001b[0;34m\u001b[0m\u001b[0m\n\u001b[1;32m   1194\u001b[0m         \u001b[0;32mtry\u001b[0m\u001b[0;34m:\u001b[0m\u001b[0;34m\u001b[0m\u001b[0;34m\u001b[0m\u001b[0m\n\u001b[0;32m-> 1195\u001b[0;31m             \u001b[0;32mfor\u001b[0m \u001b[0mobj\u001b[0m \u001b[0;32min\u001b[0m \u001b[0miterable\u001b[0m\u001b[0;34m:\u001b[0m\u001b[0;34m\u001b[0m\u001b[0;34m\u001b[0m\u001b[0m\n\u001b[0m\u001b[1;32m   1196\u001b[0m                 \u001b[0;32myield\u001b[0m \u001b[0mobj\u001b[0m\u001b[0;34m\u001b[0m\u001b[0;34m\u001b[0m\u001b[0m\n\u001b[1;32m   1197\u001b[0m                 \u001b[0;31m# Update and possibly print the progressbar.\u001b[0m\u001b[0;34m\u001b[0m\u001b[0;34m\u001b[0m\u001b[0;34m\u001b[0m\u001b[0m\n",
      "\u001b[0;32m~/.conda/envs/myenv/lib/python3.7/multiprocessing/pool.py\u001b[0m in \u001b[0;36mnext\u001b[0;34m(self, timeout)\u001b[0m\n\u001b[1;32m    746\u001b[0m         \u001b[0;32mif\u001b[0m \u001b[0msuccess\u001b[0m\u001b[0;34m:\u001b[0m\u001b[0;34m\u001b[0m\u001b[0;34m\u001b[0m\u001b[0m\n\u001b[1;32m    747\u001b[0m             \u001b[0;32mreturn\u001b[0m \u001b[0mvalue\u001b[0m\u001b[0;34m\u001b[0m\u001b[0;34m\u001b[0m\u001b[0m\n\u001b[0;32m--> 748\u001b[0;31m         \u001b[0;32mraise\u001b[0m \u001b[0mvalue\u001b[0m\u001b[0;34m\u001b[0m\u001b[0;34m\u001b[0m\u001b[0m\n\u001b[0m\u001b[1;32m    749\u001b[0m \u001b[0;34m\u001b[0m\u001b[0m\n\u001b[1;32m    750\u001b[0m     \u001b[0m__next__\u001b[0m \u001b[0;34m=\u001b[0m \u001b[0mnext\u001b[0m                    \u001b[0;31m# XXX\u001b[0m\u001b[0;34m\u001b[0m\u001b[0;34m\u001b[0m\u001b[0m\n",
      "\u001b[0;31mTypeError\u001b[0m: Invalid shape (1714944,) for image data"
     ]
    }
   ],
   "source": [
    "%matplotlib inline\n",
    "\n",
    "from ukbb_neck_to_knee import UKBB\n",
    "\n",
    "sample_ids = ['1001413_20201_2_0.zip']\n",
    "UKBB.dataset(gt_file_path = '/home/shared/cancer_challenge/mri-data/body-mri-data/processed_data/label_prostatectomy_v2.csv',\n",
    "                data_dir = '/home/shared/cancer_challenge/mri-data/body-mri-data',\n",
    "                data_misc_dir = os.getcwd(),\n",
    "                target= 'is female',\n",
    "                cache_dir = 'cahce_dir',\n",
    "                sample_ids=sample_ids)"
   ]
  }
 ],
 "metadata": {
  "kernelspec": {
   "display_name": "Python 3.7.13 ('myenv')",
   "language": "python",
   "name": "python3"
  },
  "language_info": {
   "codemirror_mode": {
    "name": "ipython",
    "version": 3
   },
   "file_extension": ".py",
   "mimetype": "text/x-python",
   "name": "python",
   "nbconvert_exporter": "python",
   "pygments_lexer": "ipython3",
   "version": "3.7.13"
  },
  "orig_nbformat": 4,
  "vscode": {
   "interpreter": {
    "hash": "c9a45f0ca5eaf9d592824f019f9b05a5abae55072f1b081df94d53ef7cc14b8d"
   }
  }
 },
 "nbformat": 4,
 "nbformat_minor": 2
}
