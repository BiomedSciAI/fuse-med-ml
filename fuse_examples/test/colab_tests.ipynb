{
 "cells": [
  {
   "cell_type": "markdown",
   "metadata": {},
   "source": [
    "# Run some tests on google colab\n",
    "Link to master: https://colab.research.google.com/github/IBM/fuse-med-ml/blob/master/fuse_examples/test/colab_tests.ipynb\n",
    "\n",
    "Link to \\<branch\\>: https://colab.research.google.com/github/IBM/fuse-med-ml/blob/\\<branch\\>/fuse_examples/test/colab_tests.ipynb\n"
   ]
  },
  {
   "cell_type": "markdown",
   "metadata": {},
   "source": [
    "------------\n",
    "## Installation Details - Google Colab\n",
    "\n",
    "### **Enable GPU Support**\n",
    "\n",
    "To use GPU through Google Colab, change the runtime mode to GPU:\n",
    "\n",
    "From the \"Runtime\" menu select \"Change Runtime Type\", choose \"GPU\" from the drop-down menu and click \"SAVE\"\n",
    "When asked, reboot the system.\n",
    "\n",
    "### **Install FuseMedML**"
   ]
  },
  {
   "cell_type": "code",
   "execution_count": null,
   "metadata": {},
   "outputs": [],
   "source": [
    "!git clone https://github.com/IBM/fuse-med-ml.git\n",
    "%cd fuse-med-ml\n",
    "# if running test on specific branch uncomment the line below\n",
    "#!git checkout <branch name>\n",
    "!pip install -e ."
   ]
  },
  {
   "cell_type": "markdown",
   "metadata": {},
   "source": [
    "**Please reboot the session when asked!**"
   ]
  },
  {
   "cell_type": "code",
   "execution_count": null,
   "metadata": {},
   "outputs": [],
   "source": [
    "import os\n",
    "os.environ[\"CUDA_VISIBLE_DEVICES\"] = \"0\"\n",
    "!export CUDA_VISIBLE_DEVICES=0\n",
    "from fuse.utils.utils_logger import fuse_logger_start\n",
    "import logging\n",
    "fuse_logger_start(output_path=None, console_verbose_level=logging.INFO)\n",
    "print(\"Done\")\n"
   ]
  },
  {
   "cell_type": "markdown",
   "metadata": {},
   "source": [
    "----------------\n",
    "### MNIST\n",
    "\n",
    "(Don't forget to first follow the installation instructions listed above)"
   ]
  },
  {
   "cell_type": "code",
   "execution_count": null,
   "metadata": {
    "scrolled": true
   },
   "outputs": [],
   "source": [
    "!python -m unittest fuse-med-ml/fuse_examples/test/test_classification_mnist.py"
   ]
  },
  {
   "cell_type": "markdown",
   "metadata": {},
   "source": [
    "----------------\n",
    "### SKIN Lesion\n",
    "\n",
    "(Don't forget to first follow the installation instructions listed above)"
   ]
  },
  {
   "cell_type": "code",
   "execution_count": null,
   "metadata": {
    "scrolled": true
   },
   "outputs": [],
   "source": [
    "!python -m unittest fuse-med-ml/fuse_examples/test/test_classification_skin_lesion.py"
   ]
  },
  {
   "cell_type": "markdown",
   "metadata": {},
   "source": [
    "----------------\n",
    "### Challenges\n",
    "\n",
    "(Don't forget to first follow the installation instructions listed above)"
   ]
  },
  {
   "cell_type": "code",
   "execution_count": null,
   "metadata": {},
   "outputs": [],
   "source": [
    "%cd fuse-med-ml/fuse_examples/classification/knight/eval\n",
    "!python eval.py example_targets.csv example_task1_predictions.csv example_task2_predictions.csv ./example_output_dir\n",
    "from IPython.display import Markdown, display\n",
    "%cd example_output_dir\n",
    "display(Markdown(\"results.md\"))\n",
    "%cd ../../../../../../"
   ]
  },
  {
   "cell_type": "code",
   "execution_count": null,
   "metadata": {},
   "outputs": [],
   "source": [
    "%cd fuse-med-ml/fuse_examples/classification/bright/eval\n",
    "!python eval.py example_targets.csv example_task1_predictions.csv example_task2_predictions.csv ./example_output_dir\n",
    "from IPython.display import Markdown, display\n",
    "%cd example_output_dir\n",
    "display(Markdown(\"results.md\"))\n",
    "%cd ../../../../../../"
   ]
  },
  {
   "cell_type": "markdown",
   "metadata": {},
   "source": []
  }
 ],
 "metadata": {
  "interpreter": {
   "hash": "696dbbea79d916ec98c5cac500207435106f4700038223b9eb42f385b1e6a064"
  },
  "kernelspec": {
   "display_name": "Python 3.6.13 64-bit ('public-fuse': conda)",
   "name": "python3"
  },
  "language_info": {
   "codemirror_mode": {
    "name": "ipython",
    "version": 3
   },
   "file_extension": ".py",
   "mimetype": "text/x-python",
   "name": "python",
   "nbconvert_exporter": "python",
   "pygments_lexer": "ipython3",
   "version": "3.6.13"
  }
 },
 "nbformat": 4,
 "nbformat_minor": 2
}
