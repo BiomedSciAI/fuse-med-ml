{
 "cells": [
  {
   "cell_type": "code",
   "execution_count": 1,
   "metadata": {},
   "outputs": [
    {
     "name": "stderr",
     "output_type": "stream",
     "text": [
      "/u/liam/.conda/miniconda3/envs/kid/lib/python3.9/site-packages/tqdm/auto.py:22: TqdmWarning: IProgress not found. Please update jupyter and ipywidgets. See https://ipywidgets.readthedocs.io/en/stable/user_install.html\n",
      "  from .autonotebook import tqdm as notebook_tqdm\n"
     ]
    }
   ],
   "source": [
    "from fuse.dl.models.backbones.backbone_vit import vit_base\n",
    "import torch\n"
   ]
  },
  {
   "cell_type": "code",
   "execution_count": 8,
   "metadata": {},
   "outputs": [],
   "source": [
    "image_shape = [40,256,256]\n",
    "\n",
    "backbone = vit_base(image_shape=image_shape, patch_shape=(8,32,32), channels=1)\n"
   ]
  },
  {
   "cell_type": "code",
   "execution_count": 11,
   "metadata": {},
   "outputs": [
    {
     "data": {
      "text/plain": [
       "torch.Size([1, 768])"
      ]
     },
     "execution_count": 11,
     "metadata": {},
     "output_type": "execute_result"
    }
   ],
   "source": [
    "input = torch.ones(image_shape).unsqueeze(0).unsqueeze(0)\n",
    "backbone(input, pool='cls').shape"
   ]
  },
  {
   "cell_type": "code",
   "execution_count": 12,
   "metadata": {},
   "outputs": [],
   "source": [
    "from fuse.dl.models.heads.heads_1D import Head1D\n",
    "from fuse.dl.models import ModelMultiHead\n",
    "\n",
    "conv_inputs = [(\"model.backbone_features\", 768)]\n",
    "\n",
    "heads=[\n",
    "                # Head3DClassifier(\n",
    "                #     head_name=\"head_0\",\n",
    "                #     # mode = \"classification\",\n",
    "                #     conv_inputs=conv_inputs,\n",
    "                #     dropout_rate=imaging_dropout,\n",
    "                #     # num_outputs=num_classes,\n",
    "                #     num_classes=num_classes,\n",
    "                #     append_features=append_features,\n",
    "                #     append_layers_description=(256, 128),\n",
    "                #     fused_dropout_rate=fused_dropout,\n",
    "                # ),\n",
    "                Head1D(\n",
    "                head_name=\"head_0\",\n",
    "                mode=\"classification\",\n",
    "                conv_inputs=conv_inputs,\n",
    "                append_features = [(\"data.input.clinical.all\", 11)],\n",
    "                append_layers_description=(256, 128),\n",
    "                num_outputs=2\n",
    "                ),\n",
    "            ]\n",
    "\n",
    "model = ModelMultiHead(\n",
    "        conv_inputs=((\"data.input.img\", 1),),\n",
    "        backbone=backbone,\n",
    "        heads=heads\n",
    "    )"
   ]
  },
  {
   "cell_type": "code",
   "execution_count": null,
   "metadata": {},
   "outputs": [],
   "source": []
  }
 ],
 "metadata": {
  "kernelspec": {
   "display_name": "kid",
   "language": "python",
   "name": "python3"
  },
  "language_info": {
   "codemirror_mode": {
    "name": "ipython",
    "version": 3
   },
   "file_extension": ".py",
   "mimetype": "text/x-python",
   "name": "python",
   "nbconvert_exporter": "python",
   "pygments_lexer": "ipython3",
   "version": "3.9.15"
  },
  "orig_nbformat": 4,
  "vscode": {
   "interpreter": {
    "hash": "b0f016abaf5994d3148c650c26fb7e7b57d47a458404dde51d48950e9dcc8733"
   }
  }
 },
 "nbformat": 4,
 "nbformat_minor": 2
}
