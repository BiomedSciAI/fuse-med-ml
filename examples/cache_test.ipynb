{
 "cells": [
  {
   "cell_type": "code",
   "execution_count": 1,
   "metadata": {},
   "outputs": [],
   "source": [
    "import os\n",
    "import pathlib\n",
    "import pandas as pd\n",
    "from fuseimg.datasets.knight import KNIGHT\n",
    "from torch.utils.data.dataloader import DataLoader\n",
    "from fuse.data.utils.collates import CollateDefault"
   ]
  },
  {
   "cell_type": "code",
   "execution_count": 2,
   "metadata": {},
   "outputs": [],
   "source": [
    "experiment_num = 0\n",
    "cache_path = \"/dccstor/mm_hcls/shatz/knight_cache/\"\n",
    "data_path = os.environ[\"KNIGHT_DATA\"]\n",
    "cache_path = os.path.join(cache_path, f\"exp_num_{str(experiment_num)}\")"
   ]
  },
  {
   "cell_type": "code",
   "execution_count": 3,
   "metadata": {},
   "outputs": [],
   "source": [
    "splits = pd.read_pickle(\"/u/shatz/repos/fuse-med-ml/examples/fuse_examples/imaging/classification/knight/baseline/splits_final.pkl\")\n",
    "split = splits[0]"
   ]
  },
  {
   "cell_type": "code",
   "execution_count": 4,
   "metadata": {},
   "outputs": [
    {
     "name": "stdout",
     "output_type": "stream",
     "text": [
      "pipeline description hash for [train_cache] is: hash_9c4aa89acd27fb78ddce20428f575665\n",
      "- Load and cache data:\n",
      "entire samples set samples_ids_hash@d9888790bcbdb60fa9a3de33a134a706.pkl.gz already cached. Found /dccstor/mm_hcls/shatz/knight_cache/exp_num_0/train/train_cache/hash_9c4aa89acd27fb78ddce20428f575665/full_sets_info/samples_ids_hash@d9888790bcbdb60fa9a3de33a134a706.pkl.gz\n",
      "- Load and cache data: Done\n",
      "Train Data: Done {'attrs': 'bold'}\n",
      "Validation Data: {'attrs': 'bold'}\n",
      "pipeline description hash for [val_cache] is: hash_9c4aa89acd27fb78ddce20428f575665\n",
      "- Load and cache data:\n",
      "entire samples set samples_ids_hash@b28209a8409367ee38706d9166530826.pkl.gz already cached. Found /dccstor/mm_hcls/shatz/knight_cache/exp_num_0/val/val_cache/hash_9c4aa89acd27fb78ddce20428f575665/full_sets_info/samples_ids_hash@b28209a8409367ee38706d9166530826.pkl.gz\n",
      "- Load and cache data: Done\n",
      "Validation Data: Done {'attrs': 'bold'}\n"
     ]
    }
   ],
   "source": [
    "train_ds, valid_ds = KNIGHT.dataset(\n",
    "    data_path=data_path,\n",
    "    cache_dir=None,\n",
    "    split=split,\n",
    "    reset_cache=False,\n",
    "    resize_to=(70, 256, 256),\n",
    "    max_allowed_used_space=0.99,\n",
    ")\n",
    "\n",
    "train_dl = DataLoader(\n",
    "    dataset=train_ds,\n",
    "    shuffle=False,\n",
    "    drop_last=False,\n",
    "    # batch_sampler=sampler,\n",
    "    collate_fn=CollateDefault(),\n",
    "    num_workers=0,\n",
    ")"
   ]
  },
  {
   "cell_type": "code",
   "execution_count": 5,
   "metadata": {},
   "outputs": [],
   "source": [
    "# train_ds, valid_ds = KNIGHT.dataset(\n",
    "    # data_path=data_path,\n",
    "    # cache_dir=cache_path,\n",
    "    # split=split,\n",
    "    # reset_cache=False,\n",
    "    # resize_to=(70, 256, 256),\n",
    "    # max_allowed_used_space=0.99,\n",
    "# )\n",
    "\n",
    "# train_dl = DataLoader(\n",
    "    # dataset=train_ds,\n",
    "    # shuffle=False,\n",
    "    # drop_last=False,\n",
    "    # # batch_sampler=sampler,\n",
    "    # collate_fn=CollateDefault(),\n",
    "    # num_workers=0,\n",
    "# )"
   ]
  },
  {
   "cell_type": "code",
   "execution_count": 8,
   "metadata": {},
   "outputs": [
    {
     "name": "stdout",
     "output_type": "stream",
     "text": [
      "test~\n",
      "CPU times: user 8min 12s, sys: 7.31 s, total: 8min 19s\n",
      "Wall time: 2min 3s\n"
     ]
    }
   ],
   "source": [
    "%%time\n",
    "\n",
    "for _ in train_dl:\n",
    "    pass\n",
    "\n",
    "print(\"test~\")"
   ]
  },
  {
   "cell_type": "code",
   "execution_count": null,
   "metadata": {},
   "outputs": [],
   "source": []
  }
 ],
 "metadata": {
  "kernelspec": {
   "display_name": "fuse_env1",
   "language": "python",
   "name": "python3"
  },
  "language_info": {
   "codemirror_mode": {
    "name": "ipython",
    "version": 3
   },
   "file_extension": ".py",
   "mimetype": "text/x-python",
   "name": "python",
   "nbconvert_exporter": "python",
   "pygments_lexer": "ipython3",
   "version": "3.8.15"
  },
  "orig_nbformat": 4,
  "vscode": {
   "interpreter": {
    "hash": "478d75c6ad124e9d588857d831b6f57d098feccaed2912037e9244dbb2ef03a1"
   }
  }
 },
 "nbformat": 4,
 "nbformat_minor": 2
}
