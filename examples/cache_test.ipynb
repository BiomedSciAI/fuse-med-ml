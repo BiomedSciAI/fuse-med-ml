{
 "cells": [
  {
   "cell_type": "markdown",
   "metadata": {},
   "source": [
    "# 🔥 A notebook to explain why caching is great"
   ]
  },
  {
   "cell_type": "code",
   "execution_count": 1,
   "metadata": {},
   "outputs": [],
   "source": [
    "import time\n",
    "from tqdm.notebook import tqdm\n",
    "import os\n",
    "import pathlib\n",
    "import pandas as pd\n",
    "from fuseimg.datasets.knight import KNIGHT\n",
    "from torch.utils.data.dataloader import DataLoader\n",
    "from fuse.data.utils.collates import CollateDefault"
   ]
  },
  {
   "cell_type": "code",
   "execution_count": 2,
   "metadata": {},
   "outputs": [],
   "source": [
    "experiment_num = 0\n",
    "cache_path = \"/dccstor/mm_hcls/shatz/knight/cache/\"\n",
    "data_path = os.environ[\"KNIGHT_DATA\"]\n",
    "cache_path = os.path.join(cache_path, f\"exp_num_{str(experiment_num)}\")"
   ]
  },
  {
   "cell_type": "code",
   "execution_count": 3,
   "metadata": {},
   "outputs": [],
   "source": [
    "splits = pd.read_pickle(\"/u/shatz/repos/fuse-med-ml/examples/fuse_examples/imaging/classification/knight/baseline/splits_final.pkl\")\n",
    "split = splits[0]"
   ]
  },
  {
   "cell_type": "code",
   "execution_count": 4,
   "metadata": {},
   "outputs": [],
   "source": [
    "num_epochs = range(15)\n",
    "num_workers = 48\n",
    "batch_size = 4"
   ]
  },
  {
   "cell_type": "markdown",
   "metadata": {},
   "source": [
    "# 🚙 Dataset without cache"
   ]
  },
  {
   "cell_type": "code",
   "execution_count": 5,
   "metadata": {
    "scrolled": false
   },
   "outputs": [
    {
     "name": "stdout",
     "output_type": "stream",
     "text": [
      "✋ Caching is OFF\n",
      "- Load data:\n",
      "- Load data: Done\n",
      "Train Data: Done {'attrs': 'bold'}\n",
      "Validation Data: {'attrs': 'bold'}\n",
      "- Load and cache data:\n",
      "- Load and cache data: Done\n",
      "Validation Data: Done {'attrs': 'bold'}\n"
     ]
    },
    {
     "data": {
      "application/vnd.jupyter.widget-view+json": {
       "model_id": "74ec6acc3bce44e18b8afda773d7961a",
       "version_major": 2,
       "version_minor": 0
      },
      "text/plain": [
       "  0%|          | 0/15 [00:00<?, ?it/s]"
      ]
     },
     "metadata": {},
     "output_type": "display_data"
    },
    {
     "data": {
      "application/vnd.jupyter.widget-view+json": {
       "model_id": "88dd6298ebb24e38ae58e25cea934797",
       "version_major": 2,
       "version_minor": 0
      },
      "text/plain": [
       "  0%|          | 0/60 [00:00<?, ?it/s]"
      ]
     },
     "metadata": {},
     "output_type": "display_data"
    },
    {
     "name": "stdout",
     "output_type": "stream",
     "text": [
      "Epoch 0 time: 61.46391844749451\n"
     ]
    },
    {
     "data": {
      "application/vnd.jupyter.widget-view+json": {
       "model_id": "38f394927d8c4e689e8057e6fdfdffc9",
       "version_major": 2,
       "version_minor": 0
      },
      "text/plain": [
       "  0%|          | 0/60 [00:00<?, ?it/s]"
      ]
     },
     "metadata": {},
     "output_type": "display_data"
    },
    {
     "name": "stdout",
     "output_type": "stream",
     "text": [
      "Epoch 1 time: 61.66864585876465\n"
     ]
    },
    {
     "data": {
      "application/vnd.jupyter.widget-view+json": {
       "model_id": "8e82c97e89284928b9a0ee435cb36c16",
       "version_major": 2,
       "version_minor": 0
      },
      "text/plain": [
       "  0%|          | 0/60 [00:00<?, ?it/s]"
      ]
     },
     "metadata": {},
     "output_type": "display_data"
    },
    {
     "name": "stdout",
     "output_type": "stream",
     "text": [
      "Epoch 2 time: 61.12218499183655\n"
     ]
    },
    {
     "data": {
      "application/vnd.jupyter.widget-view+json": {
       "model_id": "c306649868bb4211843ded09d95be66d",
       "version_major": 2,
       "version_minor": 0
      },
      "text/plain": [
       "  0%|          | 0/60 [00:00<?, ?it/s]"
      ]
     },
     "metadata": {},
     "output_type": "display_data"
    },
    {
     "name": "stdout",
     "output_type": "stream",
     "text": [
      "Epoch 3 time: 60.936548471450806\n"
     ]
    },
    {
     "data": {
      "application/vnd.jupyter.widget-view+json": {
       "model_id": "cbd343289e5044479819f8c3b2fe85df",
       "version_major": 2,
       "version_minor": 0
      },
      "text/plain": [
       "  0%|          | 0/60 [00:00<?, ?it/s]"
      ]
     },
     "metadata": {},
     "output_type": "display_data"
    },
    {
     "name": "stdout",
     "output_type": "stream",
     "text": [
      "Epoch 4 time: 60.891517877578735\n"
     ]
    },
    {
     "data": {
      "application/vnd.jupyter.widget-view+json": {
       "model_id": "d7056b71aa934cfc91c3ea00b4eecdf9",
       "version_major": 2,
       "version_minor": 0
      },
      "text/plain": [
       "  0%|          | 0/60 [00:00<?, ?it/s]"
      ]
     },
     "metadata": {},
     "output_type": "display_data"
    },
    {
     "name": "stdout",
     "output_type": "stream",
     "text": [
      "Epoch 5 time: 61.79263496398926\n"
     ]
    },
    {
     "data": {
      "application/vnd.jupyter.widget-view+json": {
       "model_id": "f1829ed3e006427aab9fdef3aa27beda",
       "version_major": 2,
       "version_minor": 0
      },
      "text/plain": [
       "  0%|          | 0/60 [00:00<?, ?it/s]"
      ]
     },
     "metadata": {},
     "output_type": "display_data"
    },
    {
     "name": "stdout",
     "output_type": "stream",
     "text": [
      "Epoch 6 time: 60.84686303138733\n"
     ]
    },
    {
     "data": {
      "application/vnd.jupyter.widget-view+json": {
       "model_id": "c8a61098c95b48a4978cd1c6c3e9e1b1",
       "version_major": 2,
       "version_minor": 0
      },
      "text/plain": [
       "  0%|          | 0/60 [00:00<?, ?it/s]"
      ]
     },
     "metadata": {},
     "output_type": "display_data"
    },
    {
     "name": "stdout",
     "output_type": "stream",
     "text": [
      "Epoch 7 time: 60.65354871749878\n"
     ]
    },
    {
     "data": {
      "application/vnd.jupyter.widget-view+json": {
       "model_id": "0ad04061083149e090ce2191c05e295c",
       "version_major": 2,
       "version_minor": 0
      },
      "text/plain": [
       "  0%|          | 0/60 [00:00<?, ?it/s]"
      ]
     },
     "metadata": {},
     "output_type": "display_data"
    },
    {
     "name": "stdout",
     "output_type": "stream",
     "text": [
      "Epoch 8 time: 61.93774604797363\n"
     ]
    },
    {
     "data": {
      "application/vnd.jupyter.widget-view+json": {
       "model_id": "aad23c05ffd743f9b495265bc8a78442",
       "version_major": 2,
       "version_minor": 0
      },
      "text/plain": [
       "  0%|          | 0/60 [00:00<?, ?it/s]"
      ]
     },
     "metadata": {},
     "output_type": "display_data"
    },
    {
     "name": "stdout",
     "output_type": "stream",
     "text": [
      "Epoch 9 time: 61.120537519454956\n"
     ]
    },
    {
     "data": {
      "application/vnd.jupyter.widget-view+json": {
       "model_id": "5ec5216f0cb84ef8a7d2d512497355f2",
       "version_major": 2,
       "version_minor": 0
      },
      "text/plain": [
       "  0%|          | 0/60 [00:00<?, ?it/s]"
      ]
     },
     "metadata": {},
     "output_type": "display_data"
    },
    {
     "name": "stdout",
     "output_type": "stream",
     "text": [
      "Epoch 10 time: 60.74915337562561\n"
     ]
    },
    {
     "data": {
      "application/vnd.jupyter.widget-view+json": {
       "model_id": "85d9079aeebd4bc99d4aa462b5882f76",
       "version_major": 2,
       "version_minor": 0
      },
      "text/plain": [
       "  0%|          | 0/60 [00:00<?, ?it/s]"
      ]
     },
     "metadata": {},
     "output_type": "display_data"
    },
    {
     "name": "stdout",
     "output_type": "stream",
     "text": [
      "Epoch 11 time: 61.64638686180115\n"
     ]
    },
    {
     "data": {
      "application/vnd.jupyter.widget-view+json": {
       "model_id": "883c6cf1a77a44e7bf847363e18f9b2b",
       "version_major": 2,
       "version_minor": 0
      },
      "text/plain": [
       "  0%|          | 0/60 [00:00<?, ?it/s]"
      ]
     },
     "metadata": {},
     "output_type": "display_data"
    },
    {
     "name": "stdout",
     "output_type": "stream",
     "text": [
      "Epoch 12 time: 61.43081068992615\n"
     ]
    },
    {
     "data": {
      "application/vnd.jupyter.widget-view+json": {
       "model_id": "abfadc2f9b724b1399a4c538c4887fb9",
       "version_major": 2,
       "version_minor": 0
      },
      "text/plain": [
       "  0%|          | 0/60 [00:00<?, ?it/s]"
      ]
     },
     "metadata": {},
     "output_type": "display_data"
    },
    {
     "name": "stdout",
     "output_type": "stream",
     "text": [
      "Epoch 13 time: 61.564696073532104\n"
     ]
    },
    {
     "data": {
      "application/vnd.jupyter.widget-view+json": {
       "model_id": "75b989661ed448d7b83f8131b1654dc8",
       "version_major": 2,
       "version_minor": 0
      },
      "text/plain": [
       "  0%|          | 0/60 [00:00<?, ?it/s]"
      ]
     },
     "metadata": {},
     "output_type": "display_data"
    },
    {
     "name": "stdout",
     "output_type": "stream",
     "text": [
      "Epoch 14 time: 61.39484715461731\n",
      "epoch times: [61.46391844749451, 61.66864585876465, 61.12218499183655, 60.936548471450806, 60.891517877578735, 61.79263496398926, 60.84686303138733, 60.65354871749878, 61.93774604797363, 61.120537519454956, 60.74915337562561, 61.64638686180115, 61.43081068992615, 61.564696073532104, 61.39484715461731]\n"
     ]
    }
   ],
   "source": [
    "train_ds_nocache, _ = KNIGHT.dataset(\n",
    "    data_path=data_path,\n",
    "    cache_dir=None,\n",
    "    split=split,\n",
    "    reset_cache=False,\n",
    "    resize_to=(70, 256, 256),\n",
    "    num_workers=num_workers,\n",
    ")\n",
    "\n",
    "train_dl_nocache = DataLoader(\n",
    "    dataset=train_ds_nocache,\n",
    "    shuffle=False,\n",
    "    drop_last=False,\n",
    "    collate_fn=CollateDefault(),\n",
    "    num_workers=num_workers,\n",
    "    batch_size=batch_size\n",
    ")\n",
    "\n",
    "times_nocache = []\n",
    "for epoch in tqdm(num_epochs):\n",
    "    epoch_start_time = time.time()\n",
    "    for _ in tqdm(train_dl_nocache):\n",
    "        pass\n",
    "    epoch_end_time = time.time()\n",
    "    epoch_elapsed_time = epoch_end_time - epoch_start_time\n",
    "    times_nocache.append(epoch_elapsed_time)\n",
    "    print(f\"Epoch {epoch} time: {epoch_elapsed_time}\")\n",
    "print(f\"epoch times: {times_nocache}\")\n"
   ]
  },
  {
   "cell_type": "markdown",
   "metadata": {},
   "source": [
    "# 🏎 Dataset WITH cache ⚡️"
   ]
  },
  {
   "cell_type": "code",
   "execution_count": 6,
   "metadata": {},
   "outputs": [
    {
     "name": "stdout",
     "output_type": "stream",
     "text": [
      "👍 Caching is ON\n",
      "pipeline description hash for [train_cache] is: hash_9c4aa89acd27fb78ddce20428f575665\n",
      "- Load data:\n",
      "\u001b[36mmultiprocess pool created with 48 workers.\u001b[0m\n"
     ]
    },
    {
     "name": "stderr",
     "output_type": "stream",
     "text": [
      "caching: 100%|███████████████████████████████████████████████████████████| 240/240 [00:40<00:00,  5.85it/s]"
     ]
    },
    {
     "name": "stdout",
     "output_type": "stream",
     "text": [
      "======== wrote /dccstor/mm_hcls/shatz/knight/cache/exp_num_0/train/train_cache/hash_9c4aa89acd27fb78ddce20428f575665/pipeline_hash_9c4aa89acd27fb78ddce20428f575665_desc.txt\n",
      "- Load data: Done\n",
      "Train Data: Done {'attrs': 'bold'}\n",
      "Validation Data: {'attrs': 'bold'}\n",
      "pipeline description hash for [val_cache] is: hash_9c4aa89acd27fb78ddce20428f575665\n",
      "- Load and cache data:\n"
     ]
    },
    {
     "name": "stderr",
     "output_type": "stream",
     "text": [
      "\n"
     ]
    },
    {
     "name": "stdout",
     "output_type": "stream",
     "text": [
      "\u001b[36mmultiprocess pool created with 48 workers.\u001b[0m\n"
     ]
    },
    {
     "name": "stderr",
     "output_type": "stream",
     "text": [
      "caching: 100%|█████████████████████████████████████████████████████████████| 60/60 [00:21<00:00,  2.78it/s]"
     ]
    },
    {
     "name": "stdout",
     "output_type": "stream",
     "text": [
      "======== wrote /dccstor/mm_hcls/shatz/knight/cache/exp_num_0/val/val_cache/hash_9c4aa89acd27fb78ddce20428f575665/pipeline_hash_9c4aa89acd27fb78ddce20428f575665_desc.txt\n",
      "- Load and cache data: Done\n",
      "Validation Data: Done {'attrs': 'bold'}\n",
      "Total time to cache: 64.88441896438599\n"
     ]
    },
    {
     "name": "stderr",
     "output_type": "stream",
     "text": [
      "\n"
     ]
    },
    {
     "data": {
      "application/vnd.jupyter.widget-view+json": {
       "model_id": "a8f3e3b08faa4945ba303c515faa5c0f",
       "version_major": 2,
       "version_minor": 0
      },
      "text/plain": [
       "  0%|          | 0/15 [00:00<?, ?it/s]"
      ]
     },
     "metadata": {},
     "output_type": "display_data"
    },
    {
     "data": {
      "application/vnd.jupyter.widget-view+json": {
       "model_id": "03f4a52ef5884c8291d71abc8fd7b964",
       "version_major": 2,
       "version_minor": 0
      },
      "text/plain": [
       "  0%|          | 0/60 [00:00<?, ?it/s]"
      ]
     },
     "metadata": {},
     "output_type": "display_data"
    },
    {
     "name": "stdout",
     "output_type": "stream",
     "text": [
      "Epoch 0 time: 18.632019996643066\n"
     ]
    },
    {
     "data": {
      "application/vnd.jupyter.widget-view+json": {
       "model_id": "4805f37bd0ef4b4e8439458cdbc6f56e",
       "version_major": 2,
       "version_minor": 0
      },
      "text/plain": [
       "  0%|          | 0/60 [00:00<?, ?it/s]"
      ]
     },
     "metadata": {},
     "output_type": "display_data"
    },
    {
     "name": "stdout",
     "output_type": "stream",
     "text": [
      "Epoch 1 time: 18.550448179244995\n"
     ]
    },
    {
     "data": {
      "application/vnd.jupyter.widget-view+json": {
       "model_id": "ee4699d074fb4fa3b162988f9996191f",
       "version_major": 2,
       "version_minor": 0
      },
      "text/plain": [
       "  0%|          | 0/60 [00:00<?, ?it/s]"
      ]
     },
     "metadata": {},
     "output_type": "display_data"
    },
    {
     "name": "stdout",
     "output_type": "stream",
     "text": [
      "Epoch 2 time: 18.664944648742676\n"
     ]
    },
    {
     "data": {
      "application/vnd.jupyter.widget-view+json": {
       "model_id": "39ff2bf11384406b9de046570f745493",
       "version_major": 2,
       "version_minor": 0
      },
      "text/plain": [
       "  0%|          | 0/60 [00:00<?, ?it/s]"
      ]
     },
     "metadata": {},
     "output_type": "display_data"
    },
    {
     "name": "stdout",
     "output_type": "stream",
     "text": [
      "Epoch 3 time: 18.517752647399902\n"
     ]
    },
    {
     "data": {
      "application/vnd.jupyter.widget-view+json": {
       "model_id": "719100065b184575a1de9634318be6ed",
       "version_major": 2,
       "version_minor": 0
      },
      "text/plain": [
       "  0%|          | 0/60 [00:00<?, ?it/s]"
      ]
     },
     "metadata": {},
     "output_type": "display_data"
    },
    {
     "name": "stdout",
     "output_type": "stream",
     "text": [
      "Epoch 4 time: 18.47329592704773\n"
     ]
    },
    {
     "data": {
      "application/vnd.jupyter.widget-view+json": {
       "model_id": "d71b1c894b544dc798c77801a7f0f541",
       "version_major": 2,
       "version_minor": 0
      },
      "text/plain": [
       "  0%|          | 0/60 [00:00<?, ?it/s]"
      ]
     },
     "metadata": {},
     "output_type": "display_data"
    },
    {
     "name": "stdout",
     "output_type": "stream",
     "text": [
      "Epoch 5 time: 18.664068698883057\n"
     ]
    },
    {
     "data": {
      "application/vnd.jupyter.widget-view+json": {
       "model_id": "ea03e89a00bd42cc93beccec8ffb903f",
       "version_major": 2,
       "version_minor": 0
      },
      "text/plain": [
       "  0%|          | 0/60 [00:00<?, ?it/s]"
      ]
     },
     "metadata": {},
     "output_type": "display_data"
    },
    {
     "name": "stdout",
     "output_type": "stream",
     "text": [
      "Epoch 6 time: 18.613131761550903\n"
     ]
    },
    {
     "data": {
      "application/vnd.jupyter.widget-view+json": {
       "model_id": "a0dda874562b48869a51d6c63f4a1ffa",
       "version_major": 2,
       "version_minor": 0
      },
      "text/plain": [
       "  0%|          | 0/60 [00:00<?, ?it/s]"
      ]
     },
     "metadata": {},
     "output_type": "display_data"
    },
    {
     "name": "stdout",
     "output_type": "stream",
     "text": [
      "Epoch 7 time: 18.765142679214478\n"
     ]
    },
    {
     "data": {
      "application/vnd.jupyter.widget-view+json": {
       "model_id": "8b7e241fbe9e4e21bfc88e9fb53be321",
       "version_major": 2,
       "version_minor": 0
      },
      "text/plain": [
       "  0%|          | 0/60 [00:00<?, ?it/s]"
      ]
     },
     "metadata": {},
     "output_type": "display_data"
    },
    {
     "name": "stdout",
     "output_type": "stream",
     "text": [
      "Epoch 8 time: 18.491400241851807\n"
     ]
    },
    {
     "data": {
      "application/vnd.jupyter.widget-view+json": {
       "model_id": "3fb5eeb0adf546f6b49070d80fdaec1e",
       "version_major": 2,
       "version_minor": 0
      },
      "text/plain": [
       "  0%|          | 0/60 [00:00<?, ?it/s]"
      ]
     },
     "metadata": {},
     "output_type": "display_data"
    },
    {
     "name": "stdout",
     "output_type": "stream",
     "text": [
      "Epoch 9 time: 19.684142589569092\n"
     ]
    },
    {
     "data": {
      "application/vnd.jupyter.widget-view+json": {
       "model_id": "395c01e3d7c04e89ac2b866d067500e9",
       "version_major": 2,
       "version_minor": 0
      },
      "text/plain": [
       "  0%|          | 0/60 [00:00<?, ?it/s]"
      ]
     },
     "metadata": {},
     "output_type": "display_data"
    },
    {
     "name": "stdout",
     "output_type": "stream",
     "text": [
      "Epoch 10 time: 19.391892194747925\n"
     ]
    },
    {
     "data": {
      "application/vnd.jupyter.widget-view+json": {
       "model_id": "f862ef6d4a7546058f55a12e1718fe65",
       "version_major": 2,
       "version_minor": 0
      },
      "text/plain": [
       "  0%|          | 0/60 [00:00<?, ?it/s]"
      ]
     },
     "metadata": {},
     "output_type": "display_data"
    },
    {
     "name": "stdout",
     "output_type": "stream",
     "text": [
      "Epoch 11 time: 19.368141889572144\n"
     ]
    },
    {
     "data": {
      "application/vnd.jupyter.widget-view+json": {
       "model_id": "3fdabbbb25c04f74854a5d23415483e4",
       "version_major": 2,
       "version_minor": 0
      },
      "text/plain": [
       "  0%|          | 0/60 [00:00<?, ?it/s]"
      ]
     },
     "metadata": {},
     "output_type": "display_data"
    },
    {
     "name": "stdout",
     "output_type": "stream",
     "text": [
      "Epoch 12 time: 18.426514148712158\n"
     ]
    },
    {
     "data": {
      "application/vnd.jupyter.widget-view+json": {
       "model_id": "89e3e11f67b9442c944a26eecd14aa22",
       "version_major": 2,
       "version_minor": 0
      },
      "text/plain": [
       "  0%|          | 0/60 [00:00<?, ?it/s]"
      ]
     },
     "metadata": {},
     "output_type": "display_data"
    },
    {
     "name": "stdout",
     "output_type": "stream",
     "text": [
      "Epoch 13 time: 19.024502277374268\n"
     ]
    },
    {
     "data": {
      "application/vnd.jupyter.widget-view+json": {
       "model_id": "f12934e6526348339b758c2cb73545a5",
       "version_major": 2,
       "version_minor": 0
      },
      "text/plain": [
       "  0%|          | 0/60 [00:00<?, ?it/s]"
      ]
     },
     "metadata": {},
     "output_type": "display_data"
    },
    {
     "name": "stdout",
     "output_type": "stream",
     "text": [
      "Epoch 14 time: 18.930696725845337\n",
      "epoch times: [18.632019996643066, 18.550448179244995, 18.664944648742676, 18.517752647399902, 18.47329592704773, 18.664068698883057, 18.613131761550903, 18.765142679214478, 18.491400241851807, 19.684142589569092, 19.391892194747925, 19.368141889572144, 18.426514148712158, 19.024502277374268, 18.930696725845337]\n"
     ]
    }
   ],
   "source": [
    "cache_start_time = time.time()\n",
    "train_ds_cache, _ = KNIGHT.dataset(\n",
    "    data_path=data_path,\n",
    "    cache_dir=cache_path,\n",
    "    split=split,\n",
    "    reset_cache=False,\n",
    "    resize_to=(70, 256, 256),\n",
    "    num_workers=num_workers\n",
    ")\n",
    "cache_end_time = time.time()\n",
    "total_cache_time = cache_end_time - cache_start_time\n",
    "print(f\"Total time to cache: {total_cache_time}\")\n",
    "\n",
    "train_dl_cache = DataLoader(\n",
    "    dataset=train_ds_cache,\n",
    "    shuffle=False,\n",
    "    drop_last=False,\n",
    "    collate_fn=CollateDefault(),\n",
    "    num_workers=num_workers,\n",
    "    batch_size=batch_size\n",
    ")\n",
    "\n",
    "times_cache = []\n",
    "for epoch in tqdm(num_epochs):\n",
    "    epoch_start_time = time.time()\n",
    "    for _ in tqdm(train_dl_cache):\n",
    "        pass\n",
    "    epoch_end_time = time.time()\n",
    "    epoch_elapsed_time = epoch_end_time - epoch_start_time\n",
    "    times_cache.append(epoch_elapsed_time)\n",
    "    print(f\"Epoch {epoch} time: {epoch_elapsed_time}\")\n",
    "print(f\"epoch times: {times_cache}\")"
   ]
  },
  {
   "cell_type": "markdown",
   "metadata": {},
   "source": [
    "# 📊 Compare cache vs no cache"
   ]
  },
  {
   "cell_type": "code",
   "execution_count": 10,
   "metadata": {},
   "outputs": [
    {
     "data": {
      "image/png": "[encoded data removed]",
      "text/plain": [
       "<Figure size 640x480 with 1 Axes>"
      ]
     },
     "metadata": {},
     "output_type": "display_data"
    }
   ],
   "source": [
    "import matplotlib.pyplot as plt\n",
    "import numpy as np\n",
    "plt.plot(np.cumsum(times_cache), label=\"cache (without counting cache time)\")\n",
    "plt.plot([t + total_cache_time for t in np.cumsum(times_cache)], label=\"cache (with cache time)\")\n",
    "plt.plot(np.cumsum(times_nocache), label=\"no cache\")\n",
    "plt.xlabel(\"Epochs\")\n",
    "plt.ylabel(\"Cumulative Time (s)\")\n",
    "plt.title(\"Fuse Cache vs No Cache - Knight Data\")\n",
    "plt.legend()\n",
    "plt.show()"
   ]
  },
  {
   "cell_type": "code",
   "execution_count": null,
   "metadata": {},
   "outputs": [],
   "source": []
  }
 ],
 "metadata": {
  "kernelspec": {
   "display_name": "Python 3",
   "language": "python",
   "name": "python3"
  },
  "language_info": {
   "codemirror_mode": {
    "name": "ipython",
    "version": 3
   },
   "file_extension": ".py",
   "mimetype": "text/x-python",
   "name": "python",
   "nbconvert_exporter": "python",
   "pygments_lexer": "ipython3",
   "version": "3.8.15"
  },
  "vscode": {
   "interpreter": {
    "hash": "478d75c6ad124e9d588857d831b6f57d098feccaed2912037e9244dbb2ef03a1"
   }
  }
 },
 "nbformat": 4,
 "nbformat_minor": 2
}
